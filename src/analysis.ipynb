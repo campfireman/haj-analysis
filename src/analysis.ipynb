{
 "cells": [
  {
   "cell_type": "code",
   "execution_count": 7,
   "source": [
    "import os\n",
    "import pandas as pd\n",
    "\n",
    "path = '../data/2019_M_%.csv'\n",
    "print(os.getcwd())\n",
    "student_data = pd.read_csv(path, delimiter=';')"
   ],
   "outputs": [
    {
     "output_type": "stream",
     "name": "stdout",
     "text": [
      "/home/ture/projects/haj-analysis/src\n",
      "      Place Pl.AC                                 Name Number  AC  \\\n",
      "0         1     1                  Gröschel, Tom (GER)  20623  HK   \n",
      "1         2     2                 Weldaj, Haftom (GER)  24434  HK   \n",
      "2         3     3                 Karsch, Dustin (GER)  24722  HK   \n",
      "3         4     4              Riechers, Nicolai (GER)  24698  HK   \n",
      "4         5     1                   Knutzen, Jan (GER)  25738  30   \n",
      "...     ...   ...                                  ...    ...  ..   \n",
      "5592   5593     5  Dr. Kloweit-Herrmann, Manfred (GER)  26710  80   \n",
      "5593   5594   197                Kaletsch, Heinz (GER)  25441  60   \n",
      "5594   5595   198              Marzian, Wolfgang (GER)  23362  60   \n",
      "5595   5596   476             Fuhlenriede, Armin (GER)  24973  55   \n",
      "5596   5597   762              Schönfeld, Robert (GER)  24680  50   \n",
      "\n",
      "                        Club    Finish  \n",
      "0            Tc Fiko Rostock  01:05:25  \n",
      "1              TSV Pattensen  01:06:22  \n",
      "2             Osnabrücker TB  01:09:08  \n",
      "3             Osnabrücker TB  01:09:09  \n",
      "4      SG akquinet Lemwerder  01:09:58  \n",
      "...                      ...       ...  \n",
      "5592             SC Melle 03  03:15:40  \n",
      "5593    Artiva Athletix Team  03:19:16  \n",
      "5594                  keiner  03:20:49  \n",
      "5595  Hannover Runners e. V.  03:31:59  \n",
      "5596  Sport mit Depressionen  03:36:06  \n",
      "\n",
      "[5597 rows x 7 columns]\n"
     ]
    }
   ],
   "metadata": {}
  }
 ],
 "metadata": {
  "orig_nbformat": 4,
  "language_info": {
   "name": "python",
   "version": "3.9.7",
   "mimetype": "text/x-python",
   "codemirror_mode": {
    "name": "ipython",
    "version": 3
   },
   "pygments_lexer": "ipython3",
   "nbconvert_exporter": "python",
   "file_extension": ".py"
  },
  "kernelspec": {
   "name": "python3",
   "display_name": "Python 3.9.7 64-bit ('env': venv)"
  },
  "interpreter": {
   "hash": "41e58e09eb0063062ba7226d9ecc5f4781d949105dab0bdf2eaa6678ce8550c1"
  }
 },
 "nbformat": 4,
 "nbformat_minor": 2
}