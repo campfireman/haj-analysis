{
 "cells": [
  {
   "cell_type": "markdown",
   "source": [
    "# Analysis of HAJ Hannover Halfmarathon 2019"
   ],
   "metadata": {}
  },
  {
   "cell_type": "code",
   "execution_count": 23,
   "source": [
    "import os\n",
    "import pandas as pd\n",
    "import matplotlib.pyplot as plt\n",
    "from matplotlib.pyplot import figure\n",
    "import nbimporter\n",
    "from src import scraper\n",
    "\n",
    "def hour_to_decimal(hour: str) -> float:\n",
    "    digits = hour.split(':')\n",
    "    return int(digits[0]) + int(digits[1]) / 60.0 + int(digits[2]) / 6000.0\n",
    "\n",
    "def histogram(columns, header, xlabel, ylabel='Frequency'):\n",
    "    for column in columns:\n",
    "        plt.hist(column, bins=50, rwidth=0.85, alpha=0.4)\n",
    "    plt.xlabel(xlabel)\n",
    "    plt.ylabel(ylabel)\n",
    "    plt.title(header)\n",
    "    plt.show()\n",
    "\n",
    "\n",
    "AGE_CLASSES = {\n",
    "    '–': -1,\n",
    "    'JU18': 0,\n",
    "    'JU20': 1,\n",
    "    'HK': 2,\n",
    "    '30': 3,\n",
    "    '35': 4,\n",
    "    '40': 5,\n",
    "    '45': 6,\n",
    "    '50': 7,\n",
    "    '55': 8,\n",
    "    '60': 9,\n",
    "    '65': 10,\n",
    "    '70': 11,\n",
    "    '75': 12,\n",
    "    '80': 13,\n",
    "    'M85': 14,\n",
    "}\n",
    "data_m = pd.read_csv(scraper.get_csv(2019, 'M'), delimiter=scraper.DELIMITER)\n",
    "data_w = pd.read_csv(scraper.get_csv(2019, 'W'), delimiter=scraper.DELIMITER)\n",
    "data_m['Finish_decimal'] = data_m['Finish'].apply(hour_to_decimal)\n",
    "data_w['Finish_decimal'] = data_w['Finish'].apply(hour_to_decimal)"
   ],
   "outputs": [],
   "metadata": {}
  },
  {
   "cell_type": "markdown",
   "source": [
    "## Overview men an women"
   ],
   "metadata": {}
  },
  {
   "cell_type": "code",
   "execution_count": 24,
   "source": [
    "histogram([data_m['Finish_decimal'], data_w['Finish_decimal']], 'Distribution of finishing times', 'hours')"
   ],
   "outputs": [
    {
     "output_type": "display_data",
     "data": {
      "image/png": "[encoded data removed]",
      "text/plain": [
       "<Figure size 432x288 with 1 Axes>"
      ]
     },
     "metadata": {
      "needs_background": "light"
     }
    }
   ],
   "metadata": {}
  },
  {
   "cell_type": "code",
   "execution_count": 25,
   "source": [
    "main_age_class_m = data_m[data_m['AC'] == 'HK']\n",
    "main_age_class_w = data_w[data_w['AC'] == 'HK']\n",
    "histogram([main_age_class_m['Finish_decimal'], main_age_class_w['Finish_decimal']], 'Distribution of finishing times of main age class (HK)', 'Hours')"
   ],
   "outputs": [
    {
     "output_type": "display_data",
     "data": {
      "image/png": "[encoded data removed]",
      "text/plain": [
       "<Figure size 432x288 with 1 Axes>"
      ]
     },
     "metadata": {
      "needs_background": "light"
     }
    }
   ],
   "metadata": {}
  },
  {
   "cell_type": "markdown",
   "source": [
    "## Detail analysis men"
   ],
   "metadata": {}
  },
  {
   "cell_type": "markdown",
   "source": [
    "### Top and worst placements"
   ],
   "metadata": {}
  },
  {
   "cell_type": "code",
   "execution_count": 26,
   "source": [
    "data_m.head()"
   ],
   "outputs": [
    {
     "output_type": "execute_result",
     "data": {
      "text/html": [
       "<div>\n",
       "<style scoped>\n",
       "    .dataframe tbody tr th:only-of-type {\n",
       "        vertical-align: middle;\n",
       "    }\n",
       "\n",
       "    .dataframe tbody tr th {\n",
       "        vertical-align: top;\n",
       "    }\n",
       "\n",
       "    .dataframe thead th {\n",
       "        text-align: right;\n",
       "    }\n",
       "</style>\n",
       "<table border=\"1\" class=\"dataframe\">\n",
       "  <thead>\n",
       "    <tr style=\"text-align: right;\">\n",
       "      <th></th>\n",
       "      <th>Place</th>\n",
       "      <th>Pl.AC</th>\n",
       "      <th>Name</th>\n",
       "      <th>Number</th>\n",
       "      <th>AC</th>\n",
       "      <th>Club</th>\n",
       "      <th>Finish</th>\n",
       "      <th>Finish_decimal</th>\n",
       "    </tr>\n",
       "  </thead>\n",
       "  <tbody>\n",
       "    <tr>\n",
       "      <th>0</th>\n",
       "      <td>1</td>\n",
       "      <td>1</td>\n",
       "      <td>Gröschel, Tom (GER)</td>\n",
       "      <td>20623</td>\n",
       "      <td>HK</td>\n",
       "      <td>Tc Fiko Rostock</td>\n",
       "      <td>01:05:25</td>\n",
       "      <td>1.087500</td>\n",
       "    </tr>\n",
       "    <tr>\n",
       "      <th>1</th>\n",
       "      <td>2</td>\n",
       "      <td>2</td>\n",
       "      <td>Weldaj, Haftom (GER)</td>\n",
       "      <td>24434</td>\n",
       "      <td>HK</td>\n",
       "      <td>TSV Pattensen</td>\n",
       "      <td>01:06:22</td>\n",
       "      <td>1.103667</td>\n",
       "    </tr>\n",
       "    <tr>\n",
       "      <th>2</th>\n",
       "      <td>3</td>\n",
       "      <td>3</td>\n",
       "      <td>Karsch, Dustin (GER)</td>\n",
       "      <td>24722</td>\n",
       "      <td>HK</td>\n",
       "      <td>Osnabrücker TB</td>\n",
       "      <td>01:09:08</td>\n",
       "      <td>1.151333</td>\n",
       "    </tr>\n",
       "    <tr>\n",
       "      <th>3</th>\n",
       "      <td>4</td>\n",
       "      <td>4</td>\n",
       "      <td>Riechers, Nicolai (GER)</td>\n",
       "      <td>24698</td>\n",
       "      <td>HK</td>\n",
       "      <td>Osnabrücker TB</td>\n",
       "      <td>01:09:09</td>\n",
       "      <td>1.151500</td>\n",
       "    </tr>\n",
       "    <tr>\n",
       "      <th>4</th>\n",
       "      <td>5</td>\n",
       "      <td>1</td>\n",
       "      <td>Knutzen, Jan (GER)</td>\n",
       "      <td>25738</td>\n",
       "      <td>30</td>\n",
       "      <td>SG akquinet Lemwerder</td>\n",
       "      <td>01:09:58</td>\n",
       "      <td>1.159667</td>\n",
       "    </tr>\n",
       "  </tbody>\n",
       "</table>\n",
       "</div>"
      ],
      "text/plain": [
       "   Place Pl.AC                     Name Number  AC                   Club  \\\n",
       "0      1     1      Gröschel, Tom (GER)  20623  HK        Tc Fiko Rostock   \n",
       "1      2     2     Weldaj, Haftom (GER)  24434  HK          TSV Pattensen   \n",
       "2      3     3     Karsch, Dustin (GER)  24722  HK         Osnabrücker TB   \n",
       "3      4     4  Riechers, Nicolai (GER)  24698  HK         Osnabrücker TB   \n",
       "4      5     1       Knutzen, Jan (GER)  25738  30  SG akquinet Lemwerder   \n",
       "\n",
       "     Finish  Finish_decimal  \n",
       "0  01:05:25        1.087500  \n",
       "1  01:06:22        1.103667  \n",
       "2  01:09:08        1.151333  \n",
       "3  01:09:09        1.151500  \n",
       "4  01:09:58        1.159667  "
      ]
     },
     "metadata": {},
     "execution_count": 26
    }
   ],
   "metadata": {}
  },
  {
   "cell_type": "code",
   "execution_count": 27,
   "source": [
    "data_m.tail()"
   ],
   "outputs": [
    {
     "output_type": "execute_result",
     "data": {
      "text/html": [
       "<div>\n",
       "<style scoped>\n",
       "    .dataframe tbody tr th:only-of-type {\n",
       "        vertical-align: middle;\n",
       "    }\n",
       "\n",
       "    .dataframe tbody tr th {\n",
       "        vertical-align: top;\n",
       "    }\n",
       "\n",
       "    .dataframe thead th {\n",
       "        text-align: right;\n",
       "    }\n",
       "</style>\n",
       "<table border=\"1\" class=\"dataframe\">\n",
       "  <thead>\n",
       "    <tr style=\"text-align: right;\">\n",
       "      <th></th>\n",
       "      <th>Place</th>\n",
       "      <th>Pl.AC</th>\n",
       "      <th>Name</th>\n",
       "      <th>Number</th>\n",
       "      <th>AC</th>\n",
       "      <th>Club</th>\n",
       "      <th>Finish</th>\n",
       "      <th>Finish_decimal</th>\n",
       "    </tr>\n",
       "  </thead>\n",
       "  <tbody>\n",
       "    <tr>\n",
       "      <th>5592</th>\n",
       "      <td>5593</td>\n",
       "      <td>5</td>\n",
       "      <td>Dr. Kloweit-Herrmann, Manfred (GER)</td>\n",
       "      <td>26710</td>\n",
       "      <td>80</td>\n",
       "      <td>SC Melle 03</td>\n",
       "      <td>03:15:40</td>\n",
       "      <td>3.256667</td>\n",
       "    </tr>\n",
       "    <tr>\n",
       "      <th>5593</th>\n",
       "      <td>5594</td>\n",
       "      <td>197</td>\n",
       "      <td>Kaletsch, Heinz (GER)</td>\n",
       "      <td>25441</td>\n",
       "      <td>60</td>\n",
       "      <td>Artiva Athletix Team</td>\n",
       "      <td>03:19:16</td>\n",
       "      <td>3.319333</td>\n",
       "    </tr>\n",
       "    <tr>\n",
       "      <th>5594</th>\n",
       "      <td>5595</td>\n",
       "      <td>198</td>\n",
       "      <td>Marzian, Wolfgang (GER)</td>\n",
       "      <td>23362</td>\n",
       "      <td>60</td>\n",
       "      <td>keiner</td>\n",
       "      <td>03:20:49</td>\n",
       "      <td>3.341500</td>\n",
       "    </tr>\n",
       "    <tr>\n",
       "      <th>5595</th>\n",
       "      <td>5596</td>\n",
       "      <td>476</td>\n",
       "      <td>Fuhlenriede, Armin (GER)</td>\n",
       "      <td>24973</td>\n",
       "      <td>55</td>\n",
       "      <td>Hannover Runners e. V.</td>\n",
       "      <td>03:31:59</td>\n",
       "      <td>3.526500</td>\n",
       "    </tr>\n",
       "    <tr>\n",
       "      <th>5596</th>\n",
       "      <td>5597</td>\n",
       "      <td>762</td>\n",
       "      <td>Schönfeld, Robert (GER)</td>\n",
       "      <td>24680</td>\n",
       "      <td>50</td>\n",
       "      <td>Sport mit Depressionen</td>\n",
       "      <td>03:36:06</td>\n",
       "      <td>3.601000</td>\n",
       "    </tr>\n",
       "  </tbody>\n",
       "</table>\n",
       "</div>"
      ],
      "text/plain": [
       "      Place Pl.AC                                 Name Number  AC  \\\n",
       "5592   5593     5  Dr. Kloweit-Herrmann, Manfred (GER)  26710  80   \n",
       "5593   5594   197                Kaletsch, Heinz (GER)  25441  60   \n",
       "5594   5595   198              Marzian, Wolfgang (GER)  23362  60   \n",
       "5595   5596   476             Fuhlenriede, Armin (GER)  24973  55   \n",
       "5596   5597   762              Schönfeld, Robert (GER)  24680  50   \n",
       "\n",
       "                        Club    Finish  Finish_decimal  \n",
       "5592             SC Melle 03  03:15:40        3.256667  \n",
       "5593    Artiva Athletix Team  03:19:16        3.319333  \n",
       "5594                  keiner  03:20:49        3.341500  \n",
       "5595  Hannover Runners e. V.  03:31:59        3.526500  \n",
       "5596  Sport mit Depressionen  03:36:06        3.601000  "
      ]
     },
     "metadata": {},
     "execution_count": 27
    }
   ],
   "metadata": {}
  },
  {
   "cell_type": "markdown",
   "source": [
    "### Average finish times"
   ],
   "metadata": {}
  },
  {
   "cell_type": "code",
   "execution_count": 28,
   "source": [
    "data_m.groupby('AC').mean()"
   ],
   "outputs": [
    {
     "output_type": "execute_result",
     "data": {
      "text/html": [
       "<div>\n",
       "<style scoped>\n",
       "    .dataframe tbody tr th:only-of-type {\n",
       "        vertical-align: middle;\n",
       "    }\n",
       "\n",
       "    .dataframe tbody tr th {\n",
       "        vertical-align: top;\n",
       "    }\n",
       "\n",
       "    .dataframe thead th {\n",
       "        text-align: right;\n",
       "    }\n",
       "</style>\n",
       "<table border=\"1\" class=\"dataframe\">\n",
       "  <thead>\n",
       "    <tr style=\"text-align: right;\">\n",
       "      <th></th>\n",
       "      <th>Place</th>\n",
       "      <th>Finish_decimal</th>\n",
       "    </tr>\n",
       "    <tr>\n",
       "      <th>AC</th>\n",
       "      <th></th>\n",
       "      <th></th>\n",
       "    </tr>\n",
       "  </thead>\n",
       "  <tbody>\n",
       "    <tr>\n",
       "      <th>30</th>\n",
       "      <td>2662.113054</td>\n",
       "      <td>1.930523</td>\n",
       "    </tr>\n",
       "    <tr>\n",
       "      <th>35</th>\n",
       "      <td>2542.425756</td>\n",
       "      <td>1.916884</td>\n",
       "    </tr>\n",
       "    <tr>\n",
       "      <th>40</th>\n",
       "      <td>2688.408618</td>\n",
       "      <td>1.940968</td>\n",
       "    </tr>\n",
       "    <tr>\n",
       "      <th>45</th>\n",
       "      <td>2849.163833</td>\n",
       "      <td>1.974180</td>\n",
       "    </tr>\n",
       "    <tr>\n",
       "      <th>50</th>\n",
       "      <td>2881.569554</td>\n",
       "      <td>1.979186</td>\n",
       "    </tr>\n",
       "    <tr>\n",
       "      <th>55</th>\n",
       "      <td>3186.995798</td>\n",
       "      <td>2.030036</td>\n",
       "    </tr>\n",
       "    <tr>\n",
       "      <th>60</th>\n",
       "      <td>3410.762626</td>\n",
       "      <td>2.087944</td>\n",
       "    </tr>\n",
       "    <tr>\n",
       "      <th>65</th>\n",
       "      <td>3832.183908</td>\n",
       "      <td>2.156822</td>\n",
       "    </tr>\n",
       "    <tr>\n",
       "      <th>70</th>\n",
       "      <td>4145.941176</td>\n",
       "      <td>2.233108</td>\n",
       "    </tr>\n",
       "    <tr>\n",
       "      <th>75</th>\n",
       "      <td>4085.363636</td>\n",
       "      <td>2.237152</td>\n",
       "    </tr>\n",
       "    <tr>\n",
       "      <th>80</th>\n",
       "      <td>5361.600000</td>\n",
       "      <td>2.739167</td>\n",
       "    </tr>\n",
       "    <tr>\n",
       "      <th>HK</th>\n",
       "      <td>2607.702106</td>\n",
       "      <td>1.923877</td>\n",
       "    </tr>\n",
       "    <tr>\n",
       "      <th>JU18</th>\n",
       "      <td>2633.852941</td>\n",
       "      <td>1.916843</td>\n",
       "    </tr>\n",
       "    <tr>\n",
       "      <th>JU20</th>\n",
       "      <td>3100.769231</td>\n",
       "      <td>2.027590</td>\n",
       "    </tr>\n",
       "    <tr>\n",
       "      <th>M85</th>\n",
       "      <td>5420.000000</td>\n",
       "      <td>2.605000</td>\n",
       "    </tr>\n",
       "    <tr>\n",
       "      <th>–</th>\n",
       "      <td>3865.000000</td>\n",
       "      <td>2.073500</td>\n",
       "    </tr>\n",
       "  </tbody>\n",
       "</table>\n",
       "</div>"
      ],
      "text/plain": [
       "            Place  Finish_decimal\n",
       "AC                               \n",
       "30    2662.113054        1.930523\n",
       "35    2542.425756        1.916884\n",
       "40    2688.408618        1.940968\n",
       "45    2849.163833        1.974180\n",
       "50    2881.569554        1.979186\n",
       "55    3186.995798        2.030036\n",
       "60    3410.762626        2.087944\n",
       "65    3832.183908        2.156822\n",
       "70    4145.941176        2.233108\n",
       "75    4085.363636        2.237152\n",
       "80    5361.600000        2.739167\n",
       "HK    2607.702106        1.923877\n",
       "JU18  2633.852941        1.916843\n",
       "JU20  3100.769231        2.027590\n",
       "M85   5420.000000        2.605000\n",
       "–     3865.000000        2.073500"
      ]
     },
     "metadata": {},
     "execution_count": 28
    }
   ],
   "metadata": {}
  },
  {
   "cell_type": "markdown",
   "source": [
    "### Number of people in age class"
   ],
   "metadata": {}
  },
  {
   "cell_type": "code",
   "execution_count": 29,
   "source": [
    "data_m['AC'].value_counts().plot.bar()"
   ],
   "outputs": [
    {
     "output_type": "execute_result",
     "data": {
      "text/plain": [
       "<AxesSubplot:>"
      ]
     },
     "metadata": {},
     "execution_count": 29
    },
    {
     "output_type": "display_data",
     "data": {
      "image/png": "[encoded data removed]",
      "text/plain": [
       "<Figure size 432x288 with 1 Axes>"
      ]
     },
     "metadata": {
      "needs_background": "light"
     }
    }
   ],
   "metadata": {}
  },
  {
   "cell_type": "markdown",
   "source": [
    "### Distribution of finishing times in age classes"
   ],
   "metadata": {}
  },
  {
   "cell_type": "code",
   "execution_count": 30,
   "source": [
    "# add map age classes to integers\n",
    "data_m['AC_label'] = data_m['AC']\n",
    "data_m['AC_label'] = data_m.AC.replace(AGE_CLASSES)\n",
    "\n",
    "data_m.boxplot(by='AC_label', column='Finish_decimal')\n",
    "plt.xticks(range(1, len(AGE_CLASSES) + 1), list(AGE_CLASSES.keys()))\n",
    "plt.show()"
   ],
   "outputs": [
    {
     "output_type": "display_data",
     "data": {
      "image/png": "[encoded data removed]",
      "text/plain": [
       "<Figure size 432x288 with 1 Axes>"
      ]
     },
     "metadata": {
      "needs_background": "light"
     }
    }
   ],
   "metadata": {}
  },
  {
   "cell_type": "markdown",
   "source": [
    "### Correlation of numeric colums"
   ],
   "metadata": {}
  },
  {
   "cell_type": "code",
   "execution_count": 31,
   "source": [
    "data_m.corr()"
   ],
   "outputs": [
    {
     "output_type": "execute_result",
     "data": {
      "text/html": [
       "<div>\n",
       "<style scoped>\n",
       "    .dataframe tbody tr th:only-of-type {\n",
       "        vertical-align: middle;\n",
       "    }\n",
       "\n",
       "    .dataframe tbody tr th {\n",
       "        vertical-align: top;\n",
       "    }\n",
       "\n",
       "    .dataframe thead th {\n",
       "        text-align: right;\n",
       "    }\n",
       "</style>\n",
       "<table border=\"1\" class=\"dataframe\">\n",
       "  <thead>\n",
       "    <tr style=\"text-align: right;\">\n",
       "      <th></th>\n",
       "      <th>Place</th>\n",
       "      <th>Finish_decimal</th>\n",
       "      <th>AC_label</th>\n",
       "    </tr>\n",
       "  </thead>\n",
       "  <tbody>\n",
       "    <tr>\n",
       "      <th>Place</th>\n",
       "      <td>1.000000</td>\n",
       "      <td>0.956946</td>\n",
       "      <td>0.147725</td>\n",
       "    </tr>\n",
       "    <tr>\n",
       "      <th>Finish_decimal</th>\n",
       "      <td>0.956946</td>\n",
       "      <td>1.000000</td>\n",
       "      <td>0.159629</td>\n",
       "    </tr>\n",
       "    <tr>\n",
       "      <th>AC_label</th>\n",
       "      <td>0.147725</td>\n",
       "      <td>0.159629</td>\n",
       "      <td>1.000000</td>\n",
       "    </tr>\n",
       "  </tbody>\n",
       "</table>\n",
       "</div>"
      ],
      "text/plain": [
       "                   Place  Finish_decimal  AC_label\n",
       "Place           1.000000        0.956946  0.147725\n",
       "Finish_decimal  0.956946        1.000000  0.159629\n",
       "AC_label        0.147725        0.159629  1.000000"
      ]
     },
     "metadata": {},
     "execution_count": 31
    }
   ],
   "metadata": {}
  }
 ],
 "metadata": {
  "orig_nbformat": 4,
  "language_info": {
   "name": "python",
   "version": "3.9.7",
   "mimetype": "text/x-python",
   "codemirror_mode": {
    "name": "ipython",
    "version": 3
   },
   "pygments_lexer": "ipython3",
   "nbconvert_exporter": "python",
   "file_extension": ".py"
  },
  "kernelspec": {
   "name": "python3",
   "display_name": "Python 3.9.7 64-bit ('env': venv)"
  },
  "interpreter": {
   "hash": "41e58e09eb0063062ba7226d9ecc5f4781d949105dab0bdf2eaa6678ce8550c1"
  }
 },
 "nbformat": 4,
 "nbformat_minor": 2
}